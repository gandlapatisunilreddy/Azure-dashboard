{
  "nbformat": 4,
  "nbformat_minor": 0,
  "metadata": {
    "colab": {
      "provenance": [],
      "authorship_tag": "ABX9TyNbjcYTjfJfI47M4Euto9zf",
      "include_colab_link": true
    },
    "kernelspec": {
      "name": "python3",
      "display_name": "Python 3"
    },
    "language_info": {
      "name": "python"
    }
  },
  "cells": [
    {
      "cell_type": "markdown",
      "metadata": {
        "id": "view-in-github",
        "colab_type": "text"
      },
      "source": [
        "<a href=\"https://colab.research.google.com/github/gandlapatisunilreddy/Azure-dashboard/blob/collaab/Untitled1.ipynb\" target=\"_parent\"><img src=\"https://colab.research.google.com/assets/colab-badge.svg\" alt=\"Open In Colab\"/></a>"
      ]
    },
    {
      "cell_type": "code",
      "source": [
        "!pip install azureml-sdk"
      ],
      "metadata": {
        "colab": {
          "base_uri": "https://localhost:8080/"
        },
        "id": "MQqlE7Cr4pg0",
        "outputId": "e1101732-3372-468d-a17a-4685bbf8228b"
      },
      "execution_count": 5,
      "outputs": [
        {
          "output_type": "stream",
          "name": "stdout",
          "text": [
            "Collecting azureml-sdk\n",
            "  Downloading azureml_sdk-1.54.0-py3-none-any.whl (2.7 kB)\n",
            "Collecting azureml-core~=1.54.0 (from azureml-sdk)\n",
            "  Using cached azureml_core-1.54.0.post1-py3-none-any.whl (3.3 MB)\n",
            "Collecting azureml-dataset-runtime[fuse]~=1.54.0 (from azureml-sdk)\n",
            "  Downloading azureml_dataset_runtime-1.54.0.post1-py3-none-any.whl (2.3 kB)\n",
            "Collecting azureml-train-core~=1.54.0 (from azureml-sdk)\n",
            "  Downloading azureml_train_core-1.54.0-py3-none-any.whl (8.6 MB)\n",
            "\u001b[2K     \u001b[90m━━━━━━━━━━━━━━━━━━━━━━━━━━━━━━━━━━━━━━━━\u001b[0m \u001b[32m8.6/8.6 MB\u001b[0m \u001b[31m19.8 MB/s\u001b[0m eta \u001b[36m0:00:00\u001b[0m\n",
            "\u001b[?25hCollecting azureml-train-automl-client~=1.54.0 (from azureml-sdk)\n",
            "  Downloading azureml_train_automl_client-1.54.0.post1-py3-none-any.whl (137 kB)\n",
            "\u001b[2K     \u001b[90m━━━━━━━━━━━━━━━━━━━━━━━━━━━━━━━━━━━━━━━━\u001b[0m \u001b[32m137.7/137.7 kB\u001b[0m \u001b[31m20.9 MB/s\u001b[0m eta \u001b[36m0:00:00\u001b[0m\n",
            "\u001b[?25hCollecting azureml-pipeline~=1.54.0 (from azureml-sdk)\n",
            "  Downloading azureml_pipeline-1.54.0-py3-none-any.whl (2.4 kB)\n",
            "Requirement already satisfied: pytz in /usr/local/lib/python3.10/dist-packages (from azureml-core~=1.54.0->azureml-sdk) (2023.3.post1)\n",
            "Collecting backports.tempfile (from azureml-core~=1.54.0->azureml-sdk)\n",
            "  Downloading backports.tempfile-1.0-py2.py3-none-any.whl (4.4 kB)\n",
            "Collecting pathspec<1.0.0 (from azureml-core~=1.54.0->azureml-sdk)\n",
            "  Downloading pathspec-0.12.1-py3-none-any.whl (31 kB)\n",
            "Requirement already satisfied: requests[socks]<3.0.0,>=2.19.1 in /usr/local/lib/python3.10/dist-packages (from azureml-core~=1.54.0->azureml-sdk) (2.31.0)\n",
            "Collecting msal<2.0.0,>=1.15.0 (from azureml-core~=1.54.0->azureml-sdk)\n",
            "  Downloading msal-1.26.0-py2.py3-none-any.whl (99 kB)\n",
            "\u001b[2K     \u001b[90m━━━━━━━━━━━━━━━━━━━━━━━━━━━━━━━━━━━━━━━━\u001b[0m \u001b[32m99.0/99.0 kB\u001b[0m \u001b[31m14.1 MB/s\u001b[0m eta \u001b[36m0:00:00\u001b[0m\n",
            "\u001b[?25hCollecting msal-extensions<=1.0.0,>=0.3.0 (from azureml-core~=1.54.0->azureml-sdk)\n",
            "  Downloading msal_extensions-1.0.0-py2.py3-none-any.whl (19 kB)\n",
            "Collecting knack<0.12.0 (from azureml-core~=1.54.0->azureml-sdk)\n",
            "  Downloading knack-0.11.0-py3-none-any.whl (60 kB)\n",
            "\u001b[2K     \u001b[90m━━━━━━━━━━━━━━━━━━━━━━━━━━━━━━━━━━━━━━━━\u001b[0m \u001b[32m60.8/60.8 kB\u001b[0m \u001b[31m9.6 MB/s\u001b[0m eta \u001b[36m0:00:00\u001b[0m\n",
            "\u001b[?25hCollecting azure-core<2.0.0 (from azureml-core~=1.54.0->azureml-sdk)\n",
            "  Downloading azure_core-1.29.6-py3-none-any.whl (192 kB)\n",
            "\u001b[2K     \u001b[90m━━━━━━━━━━━━━━━━━━━━━━━━━━━━━━━━━━━━━━━━\u001b[0m \u001b[32m192.5/192.5 kB\u001b[0m \u001b[31m26.8 MB/s\u001b[0m eta \u001b[36m0:00:00\u001b[0m\n",
            "\u001b[?25hCollecting pkginfo (from azureml-core~=1.54.0->azureml-sdk)\n",
            "  Downloading pkginfo-1.9.6-py3-none-any.whl (30 kB)\n",
            "Collecting argcomplete<4 (from azureml-core~=1.54.0->azureml-sdk)\n",
            "  Downloading argcomplete-3.2.1-py3-none-any.whl (42 kB)\n",
            "\u001b[2K     \u001b[90m━━━━━━━━━━━━━━━━━━━━━━━━━━━━━━━━━━━━━━━━\u001b[0m \u001b[32m42.3/42.3 kB\u001b[0m \u001b[31m6.2 MB/s\u001b[0m eta \u001b[36m0:00:00\u001b[0m\n",
            "\u001b[?25hCollecting humanfriendly<11.0,>=4.7 (from azureml-core~=1.54.0->azureml-sdk)\n",
            "  Downloading humanfriendly-10.0-py2.py3-none-any.whl (86 kB)\n",
            "\u001b[2K     \u001b[90m━━━━━━━━━━━━━━━━━━━━━━━━━━━━━━━━━━━━━━━━\u001b[0m \u001b[32m86.8/86.8 kB\u001b[0m \u001b[31m13.1 MB/s\u001b[0m eta \u001b[36m0:00:00\u001b[0m\n",
            "\u001b[?25hCollecting paramiko<4.0.0,>=2.0.8 (from azureml-core~=1.54.0->azureml-sdk)\n",
            "  Downloading paramiko-3.4.0-py3-none-any.whl (225 kB)\n",
            "\u001b[2K     \u001b[90m━━━━━━━━━━━━━━━━━━━━━━━━━━━━━━━━━━━━━━━━\u001b[0m \u001b[32m225.9/225.9 kB\u001b[0m \u001b[31m24.7 MB/s\u001b[0m eta \u001b[36m0:00:00\u001b[0m\n",
            "\u001b[?25hCollecting azure-mgmt-resource<=24.0.0,>=15.0.0 (from azureml-core~=1.54.0->azureml-sdk)\n",
            "  Downloading azure_mgmt_resource-23.0.1-py3-none-any.whl (2.5 MB)\n",
            "\u001b[2K     \u001b[90m━━━━━━━━━━━━━━━━━━━━━━━━━━━━━━━━━━━━━━━━\u001b[0m \u001b[32m2.5/2.5 MB\u001b[0m \u001b[31m43.2 MB/s\u001b[0m eta \u001b[36m0:00:00\u001b[0m\n",
            "\u001b[?25hCollecting azure-mgmt-containerregistry<11,>=8.2.0 (from azureml-core~=1.54.0->azureml-sdk)\n",
            "  Downloading azure_mgmt_containerregistry-10.3.0-py3-none-any.whl (2.3 MB)\n",
            "\u001b[2K     \u001b[90m━━━━━━━━━━━━━━━━━━━━━━━━━━━━━━━━━━━━━━━━\u001b[0m \u001b[32m2.3/2.3 MB\u001b[0m \u001b[31m51.1 MB/s\u001b[0m eta \u001b[36m0:00:00\u001b[0m\n",
            "\u001b[?25hCollecting azure-mgmt-storage<=22.0.0,>=16.0.0 (from azureml-core~=1.54.0->azureml-sdk)\n",
            "  Downloading azure_mgmt_storage-21.1.0-py3-none-any.whl (3.0 MB)\n",
            "\u001b[2K     \u001b[90m━━━━━━━━━━━━━━━━━━━━━━━━━━━━━━━━━━━━━━━━\u001b[0m \u001b[32m3.0/3.0 MB\u001b[0m \u001b[31m56.0 MB/s\u001b[0m eta \u001b[36m0:00:00\u001b[0m\n",
            "\u001b[?25hCollecting azure-mgmt-keyvault<11.0.0,>=0.40.0 (from azureml-core~=1.54.0->azureml-sdk)\n",
            "  Downloading azure_mgmt_keyvault-10.3.0-py3-none-any.whl (933 kB)\n",
            "\u001b[2K     \u001b[90m━━━━━━━━━━━━━━━━━━━━━━━━━━━━━━━━━━━━━━━━\u001b[0m \u001b[32m933.0/933.0 kB\u001b[0m \u001b[31m50.9 MB/s\u001b[0m eta \u001b[36m0:00:00\u001b[0m\n",
            "\u001b[?25hCollecting azure-mgmt-authorization<5,>=0.40.0 (from azureml-core~=1.54.0->azureml-sdk)\n",
            "  Downloading azure_mgmt_authorization-4.0.0-py3-none-any.whl (1.1 MB)\n",
            "\u001b[2K     \u001b[90m━━━━━━━━━━━━━━━━━━━━━━━━━━━━━━━━━━━━━━━━\u001b[0m \u001b[32m1.1/1.1 MB\u001b[0m \u001b[31m55.6 MB/s\u001b[0m eta \u001b[36m0:00:00\u001b[0m\n",
            "\u001b[?25hCollecting azure-mgmt-network==25.1.0 (from azureml-core~=1.54.0->azureml-sdk)\n",
            "  Downloading azure_mgmt_network-25.1.0-py3-none-any.whl (656 kB)\n",
            "\u001b[2K     \u001b[90m━━━━━━━━━━━━━━━━━━━━━━━━━━━━━━━━━━━━━━━━\u001b[0m \u001b[32m656.6/656.6 kB\u001b[0m \u001b[31m49.5 MB/s\u001b[0m eta \u001b[36m0:00:00\u001b[0m\n",
            "\u001b[?25hCollecting azure-graphrbac<1.0.0,>=0.40.0 (from azureml-core~=1.54.0->azureml-sdk)\n",
            "  Downloading azure_graphrbac-0.61.1-py2.py3-none-any.whl (141 kB)\n",
            "\u001b[2K     \u001b[90m━━━━━━━━━━━━━━━━━━━━━━━━━━━━━━━━━━━━━━━━\u001b[0m \u001b[32m141.4/141.4 kB\u001b[0m \u001b[31m17.8 MB/s\u001b[0m eta \u001b[36m0:00:00\u001b[0m\n",
            "\u001b[?25hCollecting azure-common<2.0.0,>=1.1.12 (from azureml-core~=1.54.0->azureml-sdk)\n",
            "  Downloading azure_common-1.1.28-py2.py3-none-any.whl (14 kB)\n",
            "Collecting msrest<=0.7.1,>=0.5.1 (from azureml-core~=1.54.0->azureml-sdk)\n",
            "  Downloading msrest-0.7.1-py3-none-any.whl (85 kB)\n",
            "\u001b[2K     \u001b[90m━━━━━━━━━━━━━━━━━━━━━━━━━━━━━━━━━━━━━━━━\u001b[0m \u001b[32m85.4/85.4 kB\u001b[0m \u001b[31m13.1 MB/s\u001b[0m eta \u001b[36m0:00:00\u001b[0m\n",
            "\u001b[?25hCollecting msrestazure<=0.6.4,>=0.4.33 (from azureml-core~=1.54.0->azureml-sdk)\n",
            "  Downloading msrestazure-0.6.4-py2.py3-none-any.whl (40 kB)\n",
            "\u001b[2K     \u001b[90m━━━━━━━━━━━━━━━━━━━━━━━━━━━━━━━━━━━━━━━━\u001b[0m \u001b[32m40.5/40.5 kB\u001b[0m \u001b[31m5.4 MB/s\u001b[0m eta \u001b[36m0:00:00\u001b[0m\n",
            "\u001b[?25hRequirement already satisfied: urllib3<3.0.0,>1.26.17 in /usr/local/lib/python3.10/dist-packages (from azureml-core~=1.54.0->azureml-sdk) (2.0.7)\n",
            "Requirement already satisfied: packaging<=24.0,>=20.0 in /usr/local/lib/python3.10/dist-packages (from azureml-core~=1.54.0->azureml-sdk) (23.2)\n",
            "Requirement already satisfied: python-dateutil<3.0.0,>=2.7.3 in /usr/local/lib/python3.10/dist-packages (from azureml-core~=1.54.0->azureml-sdk) (2.8.2)\n",
            "Collecting ndg-httpsclient<=0.5.1 (from azureml-core~=1.54.0->azureml-sdk)\n",
            "  Downloading ndg_httpsclient-0.5.1-py3-none-any.whl (34 kB)\n",
            "Requirement already satisfied: SecretStorage<4.0.0 in /usr/lib/python3/dist-packages (from azureml-core~=1.54.0->azureml-sdk) (3.3.1)\n",
            "Requirement already satisfied: jsonpickle<4.0.0 in /usr/local/lib/python3.10/dist-packages (from azureml-core~=1.54.0->azureml-sdk) (3.0.2)\n",
            "Requirement already satisfied: contextlib2<22.0.0 in /usr/local/lib/python3.10/dist-packages (from azureml-core~=1.54.0->azureml-sdk) (21.6.0)\n",
            "Collecting docker<7.0.0 (from azureml-core~=1.54.0->azureml-sdk)\n",
            "  Downloading docker-6.1.3-py3-none-any.whl (148 kB)\n",
            "\u001b[2K     \u001b[90m━━━━━━━━━━━━━━━━━━━━━━━━━━━━━━━━━━━━━━━━\u001b[0m \u001b[32m148.1/148.1 kB\u001b[0m \u001b[31m19.4 MB/s\u001b[0m eta \u001b[36m0:00:00\u001b[0m\n",
            "\u001b[?25hRequirement already satisfied: PyJWT<3.0.0 in /usr/lib/python3/dist-packages (from azureml-core~=1.54.0->azureml-sdk) (2.3.0)\n",
            "Collecting adal<=1.2.7,>=1.2.0 (from azureml-core~=1.54.0->azureml-sdk)\n",
            "  Downloading adal-1.2.7-py2.py3-none-any.whl (55 kB)\n",
            "\u001b[2K     \u001b[90m━━━━━━━━━━━━━━━━━━━━━━━━━━━━━━━━━━━━━━━━\u001b[0m \u001b[32m55.5/55.5 kB\u001b[0m \u001b[31m7.2 MB/s\u001b[0m eta \u001b[36m0:00:00\u001b[0m\n",
            "\u001b[?25hRequirement already satisfied: pyopenssl<24.0.0 in /usr/local/lib/python3.10/dist-packages (from azureml-core~=1.54.0->azureml-sdk) (23.3.0)\n",
            "Collecting jmespath<2.0.0 (from azureml-core~=1.54.0->azureml-sdk)\n",
            "  Downloading jmespath-1.0.1-py3-none-any.whl (20 kB)\n",
            "Collecting isodate<1.0.0,>=0.6.1 (from azure-mgmt-network==25.1.0->azureml-core~=1.54.0->azureml-sdk)\n",
            "  Downloading isodate-0.6.1-py2.py3-none-any.whl (41 kB)\n",
            "\u001b[2K     \u001b[90m━━━━━━━━━━━━━━━━━━━━━━━━━━━━━━━━━━━━━━━━\u001b[0m \u001b[32m41.7/41.7 kB\u001b[0m \u001b[31m5.4 MB/s\u001b[0m eta \u001b[36m0:00:00\u001b[0m\n",
            "\u001b[?25hCollecting azure-mgmt-core<2.0.0,>=1.3.2 (from azure-mgmt-network==25.1.0->azureml-core~=1.54.0->azureml-sdk)\n",
            "  Downloading azure_mgmt_core-1.4.0-py3-none-any.whl (27 kB)\n",
            "Collecting azureml-dataprep<4.14.0a,>=4.12.0a (from azureml-dataset-runtime[fuse]~=1.54.0->azureml-sdk)\n",
            "  Downloading azureml_dataprep-4.12.9-py3-none-any.whl (38.2 MB)\n",
            "\u001b[2K     \u001b[90m━━━━━━━━━━━━━━━━━━━━━━━━━━━━━━━━━━━━━━━━\u001b[0m \u001b[32m38.2/38.2 MB\u001b[0m \u001b[31m12.1 MB/s\u001b[0m eta \u001b[36m0:00:00\u001b[0m\n",
            "\u001b[?25hRequirement already satisfied: pyarrow>=0.17.0 in /usr/local/lib/python3.10/dist-packages (from azureml-dataset-runtime[fuse]~=1.54.0->azureml-sdk) (10.0.1)\n",
            "Requirement already satisfied: numpy!=1.19.3,<1.24 in /usr/local/lib/python3.10/dist-packages (from azureml-dataset-runtime[fuse]~=1.54.0->azureml-sdk) (1.23.5)\n",
            "Collecting fusepy<4.0.0,>=3.0.1 (from azureml-dataset-runtime[fuse]~=1.54.0->azureml-sdk)\n",
            "  Downloading fusepy-3.0.1.tar.gz (11 kB)\n",
            "  Preparing metadata (setup.py) ... \u001b[?25l\u001b[?25hdone\n",
            "Collecting azureml-pipeline-core~=1.54.0 (from azureml-pipeline~=1.54.0->azureml-sdk)\n",
            "  Downloading azureml_pipeline_core-1.54.0-py3-none-any.whl (313 kB)\n",
            "\u001b[2K     \u001b[90m━━━━━━━━━━━━━━━━━━━━━━━━━━━━━━━━━━━━━━━━\u001b[0m \u001b[32m313.7/313.7 kB\u001b[0m \u001b[31m40.4 MB/s\u001b[0m eta \u001b[36m0:00:00\u001b[0m\n",
            "\u001b[?25hCollecting azureml-pipeline-steps~=1.54.0 (from azureml-pipeline~=1.54.0->azureml-sdk)\n",
            "  Downloading azureml_pipeline_steps-1.54.0-py3-none-any.whl (69 kB)\n",
            "\u001b[2K     \u001b[90m━━━━━━━━━━━━━━━━━━━━━━━━━━━━━━━━━━━━━━━━\u001b[0m \u001b[32m69.6/69.6 kB\u001b[0m \u001b[31m10.9 MB/s\u001b[0m eta \u001b[36m0:00:00\u001b[0m\n",
            "\u001b[?25hCollecting azureml-automl-core~=1.54.0 (from azureml-train-automl-client~=1.54.0->azureml-sdk)\n",
            "  Downloading azureml_automl_core-1.54.0-py3-none-any.whl (248 kB)\n",
            "\u001b[2K     \u001b[90m━━━━━━━━━━━━━━━━━━━━━━━━━━━━━━━━━━━━━━━━\u001b[0m \u001b[32m248.8/248.8 kB\u001b[0m \u001b[31m31.0 MB/s\u001b[0m eta \u001b[36m0:00:00\u001b[0m\n",
            "\u001b[?25hCollecting azureml-telemetry~=1.54.0 (from azureml-train-automl-client~=1.54.0->azureml-sdk)\n",
            "  Downloading azureml_telemetry-1.54.0-py3-none-any.whl (30 kB)\n",
            "Collecting azureml-train-restclients-hyperdrive~=1.54.0 (from azureml-train-core~=1.54.0->azureml-sdk)\n",
            "  Downloading azureml_train_restclients_hyperdrive-1.54.0-py3-none-any.whl (18 kB)\n",
            "Requirement already satisfied: cryptography>=1.1.0 in /usr/local/lib/python3.10/dist-packages (from adal<=1.2.7,>=1.2.0->azureml-core~=1.54.0->azureml-sdk) (41.0.7)\n",
            "Requirement already satisfied: anyio<5.0,>=3.0 in /usr/local/lib/python3.10/dist-packages (from azure-core<2.0.0->azureml-core~=1.54.0->azureml-sdk) (3.7.1)\n",
            "Requirement already satisfied: six>=1.11.0 in /usr/local/lib/python3.10/dist-packages (from azure-core<2.0.0->azureml-core~=1.54.0->azureml-sdk) (1.16.0)\n",
            "Collecting typing-extensions>=4.6.0 (from azure-core<2.0.0->azureml-core~=1.54.0->azureml-sdk)\n",
            "  Downloading typing_extensions-4.9.0-py3-none-any.whl (32 kB)\n",
            "Collecting dotnetcore2<4.0.0,>=3.0.0 (from azureml-dataprep<4.14.0a,>=4.12.0a->azureml-dataset-runtime[fuse]~=1.54.0->azureml-sdk)\n",
            "  Downloading dotnetcore2-3.1.23-py3-none-manylinux1_x86_64.whl (31.1 MB)\n",
            "\u001b[2K     \u001b[90m━━━━━━━━━━━━━━━━━━━━━━━━━━━━━━━━━━━━━━━━\u001b[0m \u001b[32m31.1/31.1 MB\u001b[0m \u001b[31m30.5 MB/s\u001b[0m eta \u001b[36m0:00:00\u001b[0m\n",
            "\u001b[?25hCollecting azureml-dataprep-native<39.0.0,>=38.0.0 (from azureml-dataprep<4.14.0a,>=4.12.0a->azureml-dataset-runtime[fuse]~=1.54.0->azureml-sdk)\n",
            "  Downloading azureml_dataprep_native-38.0.0-cp310-cp310-manylinux1_x86_64.whl (191 kB)\n",
            "\u001b[2K     \u001b[90m━━━━━━━━━━━━━━━━━━━━━━━━━━━━━━━━━━━━━━━━\u001b[0m \u001b[32m191.7/191.7 kB\u001b[0m \u001b[31m27.2 MB/s\u001b[0m eta \u001b[36m0:00:00\u001b[0m\n",
            "\u001b[?25hCollecting azureml-dataprep-rslex~=2.19.7dev0 (from azureml-dataprep<4.14.0a,>=4.12.0a->azureml-dataset-runtime[fuse]~=1.54.0->azureml-sdk)\n",
            "  Downloading azureml_dataprep_rslex-2.19.7-cp310-cp310-manylinux_2_17_x86_64.manylinux2014_x86_64.whl (23.5 MB)\n",
            "\u001b[2K     \u001b[90m━━━━━━━━━━━━━━━━━━━━━━━━━━━━━━━━━━━━━━━━\u001b[0m \u001b[32m23.5/23.5 MB\u001b[0m \u001b[31m37.8 MB/s\u001b[0m eta \u001b[36m0:00:00\u001b[0m\n",
            "\u001b[?25hRequirement already satisfied: cloudpickle<3.0.0,>=1.1.0 in /usr/local/lib/python3.10/dist-packages (from azureml-dataprep<4.14.0a,>=4.12.0a->azureml-dataset-runtime[fuse]~=1.54.0->azureml-sdk) (2.2.1)\n",
            "Collecting azure-identity>=1.7.0 (from azureml-dataprep<4.14.0a,>=4.12.0a->azureml-dataset-runtime[fuse]~=1.54.0->azureml-sdk)\n",
            "  Downloading azure_identity-1.15.0-py3-none-any.whl (164 kB)\n",
            "\u001b[2K     \u001b[90m━━━━━━━━━━━━━━━━━━━━━━━━━━━━━━━━━━━━━━━━\u001b[0m \u001b[32m164.7/164.7 kB\u001b[0m \u001b[31m22.3 MB/s\u001b[0m eta \u001b[36m0:00:00\u001b[0m\n",
            "\u001b[?25hRequirement already satisfied: jsonschema in /usr/local/lib/python3.10/dist-packages (from azureml-dataprep<4.14.0a,>=4.12.0a->azureml-dataset-runtime[fuse]~=1.54.0->azureml-sdk) (4.19.2)\n",
            "Requirement already satisfied: pyyaml<7.0.0,>=5.1.0 in /usr/local/lib/python3.10/dist-packages (from azureml-dataprep<4.14.0a,>=4.12.0a->azureml-dataset-runtime[fuse]~=1.54.0->azureml-sdk) (6.0.1)\n",
            "Collecting applicationinsights (from azureml-telemetry~=1.54.0->azureml-train-automl-client~=1.54.0->azureml-sdk)\n",
            "  Downloading applicationinsights-0.11.10-py2.py3-none-any.whl (55 kB)\n",
            "\u001b[2K     \u001b[90m━━━━━━━━━━━━━━━━━━━━━━━━━━━━━━━━━━━━━━━━\u001b[0m \u001b[32m55.1/55.1 kB\u001b[0m \u001b[31m8.0 MB/s\u001b[0m eta \u001b[36m0:00:00\u001b[0m\n",
            "\u001b[?25hRequirement already satisfied: websocket-client>=0.32.0 in /usr/local/lib/python3.10/dist-packages (from docker<7.0.0->azureml-core~=1.54.0->azureml-sdk) (1.7.0)\n",
            "Requirement already satisfied: pygments in /usr/local/lib/python3.10/dist-packages (from knack<0.12.0->azureml-core~=1.54.0->azureml-sdk) (2.16.1)\n",
            "Requirement already satisfied: tabulate in /usr/local/lib/python3.10/dist-packages (from knack<0.12.0->azureml-core~=1.54.0->azureml-sdk) (0.9.0)\n",
            "Collecting portalocker<3,>=1.0 (from msal-extensions<=1.0.0,>=0.3.0->azureml-core~=1.54.0->azureml-sdk)\n",
            "  Downloading portalocker-2.8.2-py3-none-any.whl (17 kB)\n",
            "Requirement already satisfied: certifi>=2017.4.17 in /usr/local/lib/python3.10/dist-packages (from msrest<=0.7.1,>=0.5.1->azureml-core~=1.54.0->azureml-sdk) (2023.11.17)\n",
            "Requirement already satisfied: requests-oauthlib>=0.5.0 in /usr/local/lib/python3.10/dist-packages (from msrest<=0.7.1,>=0.5.1->azureml-core~=1.54.0->azureml-sdk) (1.3.1)\n",
            "Requirement already satisfied: pyasn1>=0.1.1 in /usr/local/lib/python3.10/dist-packages (from ndg-httpsclient<=0.5.1->azureml-core~=1.54.0->azureml-sdk) (0.5.1)\n",
            "Collecting bcrypt>=3.2 (from paramiko<4.0.0,>=2.0.8->azureml-core~=1.54.0->azureml-sdk)\n",
            "  Downloading bcrypt-4.1.2-cp39-abi3-manylinux_2_28_x86_64.whl (698 kB)\n",
            "\u001b[2K     \u001b[90m━━━━━━━━━━━━━━━━━━━━━━━━━━━━━━━━━━━━━━━━\u001b[0m \u001b[32m698.9/698.9 kB\u001b[0m \u001b[31m44.9 MB/s\u001b[0m eta \u001b[36m0:00:00\u001b[0m\n",
            "\u001b[?25hCollecting pynacl>=1.5 (from paramiko<4.0.0,>=2.0.8->azureml-core~=1.54.0->azureml-sdk)\n",
            "  Downloading PyNaCl-1.5.0-cp36-abi3-manylinux_2_17_x86_64.manylinux2014_x86_64.manylinux_2_24_x86_64.whl (856 kB)\n",
            "\u001b[2K     \u001b[90m━━━━━━━━━━━━━━━━━━━━━━━━━━━━━━━━━━━━━━━━\u001b[0m \u001b[32m856.7/856.7 kB\u001b[0m \u001b[31m48.5 MB/s\u001b[0m eta \u001b[36m0:00:00\u001b[0m\n",
            "\u001b[?25hRequirement already satisfied: charset-normalizer<4,>=2 in /usr/local/lib/python3.10/dist-packages (from requests[socks]<3.0.0,>=2.19.1->azureml-core~=1.54.0->azureml-sdk) (3.3.2)\n",
            "Requirement already satisfied: idna<4,>=2.5 in /usr/local/lib/python3.10/dist-packages (from requests[socks]<3.0.0,>=2.19.1->azureml-core~=1.54.0->azureml-sdk) (3.6)\n",
            "Requirement already satisfied: PySocks!=1.5.7,>=1.5.6 in /usr/local/lib/python3.10/dist-packages (from requests[socks]<3.0.0,>=2.19.1->azureml-core~=1.54.0->azureml-sdk) (1.7.1)\n",
            "Collecting backports.weakref (from backports.tempfile->azureml-core~=1.54.0->azureml-sdk)\n",
            "  Downloading backports.weakref-1.0.post1-py2.py3-none-any.whl (5.2 kB)\n",
            "Requirement already satisfied: sniffio>=1.1 in /usr/local/lib/python3.10/dist-packages (from anyio<5.0,>=3.0->azure-core<2.0.0->azureml-core~=1.54.0->azureml-sdk) (1.3.0)\n",
            "Requirement already satisfied: exceptiongroup in /usr/local/lib/python3.10/dist-packages (from anyio<5.0,>=3.0->azure-core<2.0.0->azureml-core~=1.54.0->azureml-sdk) (1.2.0)\n",
            "Requirement already satisfied: cffi>=1.12 in /usr/local/lib/python3.10/dist-packages (from cryptography>=1.1.0->adal<=1.2.7,>=1.2.0->azureml-core~=1.54.0->azureml-sdk) (1.16.0)\n",
            "Requirement already satisfied: distro>=1.2.0 in /usr/lib/python3/dist-packages (from dotnetcore2<4.0.0,>=3.0.0->azureml-dataprep<4.14.0a,>=4.12.0a->azureml-dataset-runtime[fuse]~=1.54.0->azureml-sdk) (1.7.0)\n",
            "Requirement already satisfied: oauthlib>=3.0.0 in /usr/local/lib/python3.10/dist-packages (from requests-oauthlib>=0.5.0->msrest<=0.7.1,>=0.5.1->azureml-core~=1.54.0->azureml-sdk) (3.2.2)\n",
            "Requirement already satisfied: attrs>=22.2.0 in /usr/local/lib/python3.10/dist-packages (from jsonschema->azureml-dataprep<4.14.0a,>=4.12.0a->azureml-dataset-runtime[fuse]~=1.54.0->azureml-sdk) (23.2.0)\n",
            "Requirement already satisfied: jsonschema-specifications>=2023.03.6 in /usr/local/lib/python3.10/dist-packages (from jsonschema->azureml-dataprep<4.14.0a,>=4.12.0a->azureml-dataset-runtime[fuse]~=1.54.0->azureml-sdk) (2023.12.1)\n",
            "Requirement already satisfied: referencing>=0.28.4 in /usr/local/lib/python3.10/dist-packages (from jsonschema->azureml-dataprep<4.14.0a,>=4.12.0a->azureml-dataset-runtime[fuse]~=1.54.0->azureml-sdk) (0.32.1)\n",
            "Requirement already satisfied: rpds-py>=0.7.1 in /usr/local/lib/python3.10/dist-packages (from jsonschema->azureml-dataprep<4.14.0a,>=4.12.0a->azureml-dataset-runtime[fuse]~=1.54.0->azureml-sdk) (0.16.2)\n",
            "Requirement already satisfied: pycparser in /usr/local/lib/python3.10/dist-packages (from cffi>=1.12->cryptography>=1.1.0->adal<=1.2.7,>=1.2.0->azureml-core~=1.54.0->azureml-sdk) (2.21)\n",
            "Building wheels for collected packages: fusepy\n",
            "  Building wheel for fusepy (setup.py) ... \u001b[?25l\u001b[?25hdone\n",
            "  Created wheel for fusepy: filename=fusepy-3.0.1-py3-none-any.whl size=10487 sha256=b05eba76067aba1b46d49141bcbf4695da60c197664a989152c5be2f334eac58\n",
            "  Stored in directory: /root/.cache/pip/wheels/c0/18/f6/f0d6be9d0435e2677ce5cc758e91da50053dce456a346f08c5\n",
            "Successfully built fusepy\n",
            "Installing collected packages: fusepy, backports.weakref, azureml-dataprep-rslex, azureml-dataprep-native, azure-common, applicationinsights, typing-extensions, portalocker, pkginfo, pathspec, jmespath, isodate, humanfriendly, dotnetcore2, bcrypt, backports.tempfile, argcomplete, pynacl, knack, docker, azure-core, paramiko, msrest, azure-mgmt-core, adal, ndg-httpsclient, msrestazure, msal, azure-mgmt-storage, azure-mgmt-resource, azure-mgmt-network, azure-mgmt-keyvault, azure-mgmt-containerregistry, azure-mgmt-authorization, msal-extensions, azureml-train-restclients-hyperdrive, azure-graphrbac, azureml-core, azure-identity, azureml-telemetry, azureml-pipeline-core, azureml-dataprep, azureml-train-core, azureml-dataset-runtime, azureml-automl-core, azureml-train-automl-client, azureml-pipeline-steps, azureml-pipeline, azureml-sdk\n",
            "  Attempting uninstall: typing-extensions\n",
            "    Found existing installation: typing_extensions 4.5.0\n",
            "    Uninstalling typing_extensions-4.5.0:\n",
            "      Successfully uninstalled typing_extensions-4.5.0\n",
            "\u001b[31mERROR: pip's dependency resolver does not currently take into account all the packages that are installed. This behaviour is the source of the following dependency conflicts.\n",
            "tensorflow-probability 0.22.0 requires typing-extensions<4.6.0, but you have typing-extensions 4.9.0 which is incompatible.\u001b[0m\u001b[31m\n",
            "\u001b[0mSuccessfully installed adal-1.2.7 applicationinsights-0.11.10 argcomplete-3.2.1 azure-common-1.1.28 azure-core-1.29.6 azure-graphrbac-0.61.1 azure-identity-1.15.0 azure-mgmt-authorization-4.0.0 azure-mgmt-containerregistry-10.3.0 azure-mgmt-core-1.4.0 azure-mgmt-keyvault-10.3.0 azure-mgmt-network-25.1.0 azure-mgmt-resource-23.0.1 azure-mgmt-storage-21.1.0 azureml-automl-core-1.54.0 azureml-core-1.54.0.post1 azureml-dataprep-4.12.9 azureml-dataprep-native-38.0.0 azureml-dataprep-rslex-2.19.7 azureml-dataset-runtime-1.54.0.post1 azureml-pipeline-1.54.0 azureml-pipeline-core-1.54.0 azureml-pipeline-steps-1.54.0 azureml-sdk-1.54.0 azureml-telemetry-1.54.0 azureml-train-automl-client-1.54.0.post1 azureml-train-core-1.54.0 azureml-train-restclients-hyperdrive-1.54.0 backports.tempfile-1.0 backports.weakref-1.0.post1 bcrypt-4.1.2 docker-6.1.3 dotnetcore2-3.1.23 fusepy-3.0.1 humanfriendly-10.0 isodate-0.6.1 jmespath-1.0.1 knack-0.11.0 msal-1.26.0 msal-extensions-1.0.0 msrest-0.7.1 msrestazure-0.6.4 ndg-httpsclient-0.5.1 paramiko-3.4.0 pathspec-0.12.1 pkginfo-1.9.6 portalocker-2.8.2 pynacl-1.5.0 typing-extensions-4.9.0\n"
          ]
        }
      ]
    },
    {
      "cell_type": "code",
      "source": [
        "from azureml.core import Workspace, Dataset"
      ],
      "metadata": {
        "id": "zPX8JPf94sCC"
      },
      "execution_count": 6,
      "outputs": []
    },
    {
      "cell_type": "code",
      "source": [
        "# Replace the values with your own Azure ML workspace details\n",
        "subscription_id = 'your_subscription_id'\n",
        "resource_group = 'your_resource_group'\n",
        "workspace_name = 'your_workspace_name'\n",
        "\n",
        "# Connect to the workspace\n",
        "ws = Workspace(subscription_id, resource_group, workspace_name)"
      ],
      "metadata": {
        "id": "QqFhuEjH7Kd3"
      },
      "execution_count": null,
      "outputs": []
    },
    {
      "cell_type": "code",
      "source": [
        "# Replace 'path_to_your_file' with the local path to your file\n",
        "uploaded_file = 'path_to_your_file'\n",
        "datastore = ws.get_default_datastore()\n",
        "datastore.upload_files(files=[uploaded_file], target_path='uploaded_files', overwrite=True)"
      ],
      "metadata": {
        "colab": {
          "base_uri": "https://localhost:8080/",
          "height": 234
        },
        "id": "Jz8yVWhA5UHH",
        "outputId": "43cca0da-92b4-4f76-ce78-1ace75b00bf3"
      },
      "execution_count": 7,
      "outputs": [
        {
          "output_type": "error",
          "ename": "NameError",
          "evalue": "name 'ws' is not defined",
          "traceback": [
            "\u001b[0;31m---------------------------------------------------------------------------\u001b[0m",
            "\u001b[0;31mNameError\u001b[0m                                 Traceback (most recent call last)",
            "\u001b[0;32m<ipython-input-7-95be1258fa9d>\u001b[0m in \u001b[0;36m<cell line: 3>\u001b[0;34m()\u001b[0m\n\u001b[1;32m      1\u001b[0m \u001b[0;31m# Replace 'path_to_your_file' with the local path to your file\u001b[0m\u001b[0;34m\u001b[0m\u001b[0;34m\u001b[0m\u001b[0m\n\u001b[1;32m      2\u001b[0m \u001b[0muploaded_file\u001b[0m \u001b[0;34m=\u001b[0m \u001b[0;34m'path_to_your_file'\u001b[0m\u001b[0;34m\u001b[0m\u001b[0;34m\u001b[0m\u001b[0m\n\u001b[0;32m----> 3\u001b[0;31m \u001b[0mdatastore\u001b[0m \u001b[0;34m=\u001b[0m \u001b[0mws\u001b[0m\u001b[0;34m.\u001b[0m\u001b[0mget_default_datastore\u001b[0m\u001b[0;34m(\u001b[0m\u001b[0;34m)\u001b[0m\u001b[0;34m\u001b[0m\u001b[0;34m\u001b[0m\u001b[0m\n\u001b[0m\u001b[1;32m      4\u001b[0m \u001b[0mdatastore\u001b[0m\u001b[0;34m.\u001b[0m\u001b[0mupload_files\u001b[0m\u001b[0;34m(\u001b[0m\u001b[0mfiles\u001b[0m\u001b[0;34m=\u001b[0m\u001b[0;34m[\u001b[0m\u001b[0muploaded_file\u001b[0m\u001b[0;34m]\u001b[0m\u001b[0;34m,\u001b[0m \u001b[0mtarget_path\u001b[0m\u001b[0;34m=\u001b[0m\u001b[0;34m'uploaded_files'\u001b[0m\u001b[0;34m,\u001b[0m \u001b[0moverwrite\u001b[0m\u001b[0;34m=\u001b[0m\u001b[0;32mTrue\u001b[0m\u001b[0;34m)\u001b[0m\u001b[0;34m\u001b[0m\u001b[0;34m\u001b[0m\u001b[0m\n",
            "\u001b[0;31mNameError\u001b[0m: name 'ws' is not defined"
          ]
        }
      ]
    },
    {
      "cell_type": "code",
      "source": [
        "# Create a TabularDataset from the uploaded file\n",
        "dataset = Dataset.Tabular.from_delimited_files(path=(datastore, 'uploaded_files/your_file_name.csv'))\n",
        "\n",
        "# Register the dataset in the workspace\n",
        "dataset = dataset.register(workspace=ws, name='your_dataset_name', description='Description of your dataset')"
      ],
      "metadata": {
        "id": "G_Mwu0wB7Wym"
      },
      "execution_count": null,
      "outputs": []
    }
  ]
}